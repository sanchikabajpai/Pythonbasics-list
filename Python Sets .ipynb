{
 "cells": [
  {
   "cell_type": "markdown",
   "metadata": {},
   "source": [
    "## Sets in Python"
   ]
  },
  {
   "cell_type": "markdown",
   "metadata": {},
   "source": [
    "####  A set is an unordered collection of data items. Every set element is unique and unmutable. however sets itself are mutable that means we can add or remove data items from it. Set can be used to perform set operations like union, intersection and symmetric difference etc.\n",
    "\n",
    "creating python sets: set uses curly braces to add the eliments inside it. \n",
    "Sets can have any number of data item and different type of datatypes too. but it can not have mutable elements like Lists, sets or dictionaries as its elements"
   ]
  },
  {
   "cell_type": "code",
   "execution_count": 2,
   "metadata": {},
   "outputs": [
    {
     "name": "stdout",
     "output_type": "stream",
     "text": [
      "{1, 2, 3}\n"
     ]
    }
   ],
   "source": [
    "## Different type of sets in python\n",
    "# Sets of integer\n",
    "set1={1,2,3}\n",
    "print(set1)"
   ]
  },
  {
   "cell_type": "code",
   "execution_count": 6,
   "metadata": {},
   "outputs": [
    {
     "name": "stdout",
     "output_type": "stream",
     "text": [
      "(1, 2.2, 'a', (1, 2, 3))\n",
      "(1, 2.2, 'a', (1, 2, 3), [1, 2, 3])\n"
     ]
    }
   ],
   "source": [
    "# Sets of mixed data type\n",
    "set2=(1,2.2,'a',(1,2,3))\n",
    "print (set2)\n",
    "set3=(1,2.2,'a',(1,2,3),[1,2,3])\n",
    "print(set3)"
   ]
  },
  {
   "cell_type": "markdown",
   "metadata": {},
   "source": [
    "#### Sets can not have duplicates\n",
    "#### We can have sets from list\n"
   ]
  },
  {
   "cell_type": "code",
   "execution_count": 9,
   "metadata": {},
   "outputs": [
    {
     "name": "stdout",
     "output_type": "stream",
     "text": [
      "{1, 2, 3, 4, 5}\n"
     ]
    }
   ],
   "source": [
    "my_set=set([1,2,3,4,5])\n",
    "print(my_set)\n"
   ]
  },
  {
   "cell_type": "markdown",
   "metadata": {},
   "source": [
    "#### it is difficult to create empty set\n",
    "#### To make empty set using bracket\n"
   ]
  },
  {
   "cell_type": "code",
   "execution_count": 10,
   "metadata": {},
   "outputs": [
    {
     "name": "stdout",
     "output_type": "stream",
     "text": [
      "<class 'dict'>\n",
      "<class 'set'>\n"
     ]
    }
   ],
   "source": [
    "a={}\n",
    "print(type(a))\n",
    "set4=set()\n",
    "print(type(set4))"
   ]
  },
  {
   "cell_type": "markdown",
   "metadata": {},
   "source": [
    "#### Modifying a set in python\n",
    "sets are mutable but since they are unordered there is no meaning of using indexing\n",
    "we can not access of modify the element of sets by using indexing or slicing\n",
    "we can use 'add()' method to add single element and 'update' method to add multiple elements\n"
   ]
  },
  {
   "cell_type": "code",
   "execution_count": 11,
   "metadata": {},
   "outputs": [],
   "source": [
    "set4.add(2)"
   ]
  },
  {
   "cell_type": "code",
   "execution_count": 12,
   "metadata": {},
   "outputs": [
    {
     "name": "stdout",
     "output_type": "stream",
     "text": [
      "{2}\n"
     ]
    }
   ],
   "source": [
    "print(set4)"
   ]
  },
  {
   "cell_type": "code",
   "execution_count": 14,
   "metadata": {},
   "outputs": [
    {
     "name": "stdout",
     "output_type": "stream",
     "text": [
      "{2, 4, 5, 6, 7}\n"
     ]
    }
   ],
   "source": [
    "set4.update([4,5,6,7])\n",
    "print(set4)"
   ]
  },
  {
   "cell_type": "markdown",
   "metadata": {},
   "source": [
    "#### Removing elements from sets\n",
    "A perticular item can be removed or discart by using 'discard()' or 'remove()' method.\n",
    "difference between these two is : discard() will leave the set unchange if the element not found on the other hand remove() will raise as  error  in such condition"
   ]
  },
  {
   "cell_type": "code",
   "execution_count": 15,
   "metadata": {},
   "outputs": [
    {
     "name": "stdout",
     "output_type": "stream",
     "text": [
      "{2, 4, 5, 6, 7}\n"
     ]
    }
   ],
   "source": [
    "print(set4)"
   ]
  },
  {
   "cell_type": "code",
   "execution_count": 16,
   "metadata": {},
   "outputs": [
    {
     "ename": "KeyError",
     "evalue": "9",
     "output_type": "error",
     "traceback": [
      "\u001b[1;31m---------------------------------------------------------------------------\u001b[0m",
      "\u001b[1;31mKeyError\u001b[0m                                  Traceback (most recent call last)",
      "\u001b[1;32m<ipython-input-16-25cace526df5>\u001b[0m in \u001b[0;36m<module>\u001b[1;34m\u001b[0m\n\u001b[1;32m----> 1\u001b[1;33m \u001b[0mset4\u001b[0m\u001b[1;33m.\u001b[0m\u001b[0mremove\u001b[0m\u001b[1;33m(\u001b[0m\u001b[1;36m9\u001b[0m\u001b[1;33m)\u001b[0m\u001b[1;33m\u001b[0m\u001b[1;33m\u001b[0m\u001b[0m\n\u001b[0m",
      "\u001b[1;31mKeyError\u001b[0m: 9"
     ]
    }
   ],
   "source": [
    "set4.remove(9)\n"
   ]
  },
  {
   "cell_type": "code",
   "execution_count": 17,
   "metadata": {},
   "outputs": [],
   "source": [
    "set4.discard(9)  # no msz given"
   ]
  },
  {
   "cell_type": "markdown",
   "metadata": {},
   "source": [
    "#### same like list sets can also use pop() function to remove element from set and clear() function to remove all elements from sets"
   ]
  },
  {
   "cell_type": "markdown",
   "metadata": {},
   "source": [
    "#### Python set operation\n",
    "1. Set Union\n",
    "2. Set Intersection\n",
    "3. Set Difference\n",
    "4. Set SymmetricDifference\n"
   ]
  },
  {
   "cell_type": "code",
   "execution_count": 19,
   "metadata": {},
   "outputs": [
    {
     "name": "stdout",
     "output_type": "stream",
     "text": [
      "{1, 2, 3, 4, 5, 6, 7, 8}\n",
      "{1, 2, 3, 4, 5, 6, 7, 8}\n"
     ]
    }
   ],
   "source": [
    "## SET UNION\n",
    "a={1,2,3,4,5}\n",
    "b={4,5,6,7,8}\n",
    "print(a|b)\n",
    "print(b|a)"
   ]
  },
  {
   "cell_type": "code",
   "execution_count": 20,
   "metadata": {},
   "outputs": [
    {
     "name": "stdout",
     "output_type": "stream",
     "text": [
      "{4, 5}\n"
     ]
    }
   ],
   "source": [
    "## SET INTERSECTION\n",
    "print(a&b)"
   ]
  },
  {
   "cell_type": "code",
   "execution_count": 21,
   "metadata": {},
   "outputs": [
    {
     "name": "stdout",
     "output_type": "stream",
     "text": [
      "{1, 2, 3}\n",
      "{8, 6, 7}\n"
     ]
    }
   ],
   "source": [
    "##Set Difference\n",
    "print(a-b)\n",
    "print(b-a)"
   ]
  },
  {
   "cell_type": "code",
   "execution_count": 22,
   "metadata": {},
   "outputs": [
    {
     "name": "stdout",
     "output_type": "stream",
     "text": [
      "{1, 2, 3, 6, 7, 8}\n"
     ]
    }
   ],
   "source": [
    "## Set Symmetric Difference\n",
    "print(a^b)"
   ]
  },
  {
   "cell_type": "markdown",
   "metadata": {},
   "source": [
    "#### Other Python set methods\n",
    "1. setname.add()                          add the lelement in set\n",
    "2. setname.clear()                        remove all element from set\n",
    "3. setname.copy()                         returns a copy of a set\n",
    "4. setname.difference()                   return the difference of two or more sets as a new set\n",
    "5. setname.difference_update()            removes all elements of another set from current set\n",
    "6. setname.discard()                      removes an element from the set if it is member(it will do nothing if it is not)\n",
    "7. setname.intersection()                 Returns the intersection of two sets as a new set\n",
    "8. setname.intersection_update()          Updates the set with the intersection of itself and another\n",
    "9. setname.isdisjoint()                   Returns True if two sets have a null intersection\n",
    "10. setname.issubset()                    Returns True if another set contains this set\n",
    "11. setname.issuperset()                  Returns True if this set contains another set\n",
    "12. setname.pop()                         Removes and returns an arbitrary set element. Raises KeyError if the set is empty\n",
    "13. setname.remove()                      Removes an element from the set. If the element is not a member,it  raises a KeyError\n",
    "14. setname.symmetric_difference()        Returns the symmetric difference of two sets as a new set\n",
    "15. setname.union()                       Returns the union of sets in a new set\n",
    "16. setname.update()                      Updates the set with the union of itself and others"
   ]
  },
  {
   "cell_type": "code",
   "execution_count": null,
   "metadata": {},
   "outputs": [],
   "source": []
  }
 ],
 "metadata": {
  "kernelspec": {
   "display_name": "Python 3",
   "language": "python",
   "name": "python3"
  },
  "language_info": {
   "codemirror_mode": {
    "name": "ipython",
    "version": 3
   },
   "file_extension": ".py",
   "mimetype": "text/x-python",
   "name": "python",
   "nbconvert_exporter": "python",
   "pygments_lexer": "ipython3",
   "version": "3.7.4"
  }
 },
 "nbformat": 4,
 "nbformat_minor": 2
}

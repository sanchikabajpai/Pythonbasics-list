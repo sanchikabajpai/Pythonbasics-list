{
 "cells": [
  {
   "cell_type": "markdown",
   "metadata": {},
   "source": [
    "## Tuples in python\n",
    "#### tuples in python are same as list but the difference is tuples are imutable and listes are mutable , that means we can not do any change in tuples once it is created"
   ]
  },
  {
   "cell_type": "code",
   "execution_count": 1,
   "metadata": {},
   "outputs": [],
   "source": [
    "## Tuple can be created by placing all the items inside ()"
   ]
  },
  {
   "cell_type": "code",
   "execution_count": 2,
   "metadata": {},
   "outputs": [
    {
     "name": "stdout",
     "output_type": "stream",
     "text": [
      "('a', 'b', 'c', 'd')\n"
     ]
    }
   ],
   "source": [
    "tuple1=('a','b','c','d')\n",
    "print(tuple1)"
   ]
  },
  {
   "cell_type": "code",
   "execution_count": 5,
   "metadata": {},
   "outputs": [
    {
     "name": "stdout",
     "output_type": "stream",
     "text": [
      "(1, 2, 'a', 'b', 'c', 'hello')\n"
     ]
    }
   ],
   "source": [
    "# tuple with mixed datatype\n",
    "tuple2=(1,2,'a','b','c',\"hello\")\n",
    "print(tuple2)"
   ]
  },
  {
   "cell_type": "code",
   "execution_count": 7,
   "metadata": {},
   "outputs": [
    {
     "name": "stdout",
     "output_type": "stream",
     "text": [
      "(1, 2, 'a', 'b', 'c', 'hello', 10.2, [1, 2, 3])\n"
     ]
    }
   ],
   "source": [
    "# Nested tuple\n",
    "tuple2=(1,2,'a','b','c',\"hello\",10.2,[1,2,3])\n",
    "print(tuple2)"
   ]
  },
  {
   "cell_type": "code",
   "execution_count": 11,
   "metadata": {},
   "outputs": [
    {
     "name": "stdout",
     "output_type": "stream",
     "text": [
      "(1, 2, 'a', 'b', [1, 2, 4, 6], 24.4)\n"
     ]
    }
   ],
   "source": [
    "#Tuple packaing: a tuple can be created without paranthasis\n",
    "tuple3=1,2,'a','b',[1,2,4,6],24.4\n",
    "print(tuple3)"
   ]
  },
  {
   "cell_type": "code",
   "execution_count": 12,
   "metadata": {},
   "outputs": [],
   "source": [
    "# tuple unpacking is also possible\n",
    "a,b,c,d,e,f=tuple3"
   ]
  },
  {
   "cell_type": "code",
   "execution_count": 13,
   "metadata": {},
   "outputs": [
    {
     "name": "stdout",
     "output_type": "stream",
     "text": [
      "1\n",
      "2\n",
      "a\n",
      "b\n",
      "[1, 2, 4, 6]\n",
      "24.4\n"
     ]
    }
   ],
   "source": [
    "print(a)\n",
    "print(b)\n",
    "print(c)\n",
    "print(d)\n",
    "print(e)\n",
    "print(f)\n"
   ]
  },
  {
   "cell_type": "markdown",
   "metadata": {},
   "source": [
    "### Accessing Elements of Tuple\n",
    "  #### 1. Index: We can use index operator[] to access the elements of tuple and this index will start from 0. Index must be integer . It can not be float or any other data type otherwise it will give error."
   ]
  },
  {
   "cell_type": "code",
   "execution_count": 1,
   "metadata": {},
   "outputs": [
    {
     "name": "stdout",
     "output_type": "stream",
     "text": [
      "p\n"
     ]
    }
   ],
   "source": [
    "# Accessing tuple elements using indexing\n",
    "tuple=('m','y','e','m','p','t','y','c','l','a','s','s')\n",
    "print(tuple[4]) # p is expected as result"
   ]
  },
  {
   "cell_type": "code",
   "execution_count": 4,
   "metadata": {},
   "outputs": [
    {
     "name": "stdout",
     "output_type": "stream",
     "text": [
      "('sanchika', [1, 2, 3], (5, 6, 7))\n",
      "c\n",
      "2\n",
      "5\n"
     ]
    }
   ],
   "source": [
    "# nested tuple\n",
    "tuple1=('sanchika',[1,2,3],(5,6,7))\n",
    "print(tuple1)\n",
    "print(tuple1[0][3])\n",
    "print(tuple1[1][1])\n",
    "print(tuple1[2][0])"
   ]
  },
  {
   "cell_type": "markdown",
   "metadata": {},
   "source": [
    "#### Negating Index\n",
    "##### The index starts with -1 refers to as last item of index\n"
   ]
  },
  {
   "cell_type": "code",
   "execution_count": 5,
   "metadata": {},
   "outputs": [
    {
     "name": "stdout",
     "output_type": "stream",
     "text": [
      "l\n"
     ]
    }
   ],
   "source": [
    "# Negating index example\n",
    "tuple=('m','y','e','m','p','t','y','c','l','a','s','s')\n",
    "print(tuple[-4]) # l is expected as result"
   ]
  },
  {
   "cell_type": "markdown",
   "metadata": {},
   "source": [
    "#### Slicing\n",
    "#####  We can access the range of item by using slicing operator ':'"
   ]
  },
  {
   "cell_type": "code",
   "execution_count": 11,
   "metadata": {},
   "outputs": [
    {
     "name": "stdout",
     "output_type": "stream",
     "text": [
      "('m', 'p', 't')\n",
      "('m', 'y', 'e', 'm')\n",
      "('p', 't', 'y', 'c', 'l', 'a', 's', 's')\n",
      "('s', 's')\n",
      "('m', 'y', 'e', 'm', 'p', 't')\n"
     ]
    }
   ],
   "source": [
    "# Examples of Slicing in tuple\n",
    "tuple=('m','y','e','m','p','t','y','c','l','a','s','s')\n",
    "print(tuple[3:6]) # m,o,t is expected as result\n",
    "print(tuple[:-8]) # m,y,e,m is expected as result\n",
    "print(tuple[-8:]) # p,t,y,c,l,a,s,s is expected as result\n",
    "print(tuple[10:]) # ss is expected as result\n",
    "print(tuple[:6]) # m,y,e,m,p,t is expected as result"
   ]
  },
  {
   "cell_type": "markdown",
   "metadata": {},
   "source": [
    "#### Changing a tuple\n",
    "##### As we know that tuples are imutable that means elements of tuple can not be changed once they are assigned but if the element itself is a mutable datatype then element can be changed"
   ]
  },
  {
   "cell_type": "code",
   "execution_count": 15,
   "metadata": {},
   "outputs": [
    {
     "name": "stdout",
     "output_type": "stream",
     "text": [
      "(1, 2, [4, 5, 6])\n"
     ]
    }
   ],
   "source": [
    "tuple6=(1,2,[4,5,6])\n",
    "print(tuple6)"
   ]
  },
  {
   "cell_type": "code",
   "execution_count": 16,
   "metadata": {},
   "outputs": [
    {
     "name": "stdout",
     "output_type": "stream",
     "text": [
      "(1, 2, [4, 5, 10])\n"
     ]
    }
   ],
   "source": [
    "tuple6[2][2]=10\n",
    "print(tuple6)"
   ]
  },
  {
   "cell_type": "markdown",
   "metadata": {},
   "source": [
    "##### we can combine two tuples by using '+' operator, and same like list we can repeat the existing elements of tuple by using '*' operator."
   ]
  },
  {
   "cell_type": "code",
   "execution_count": 21,
   "metadata": {},
   "outputs": [
    {
     "name": "stdout",
     "output_type": "stream",
     "text": [
      "('m', 'y', 'e', 'm', 'p', 't', 'y', 'c', 'l', 'a', 's', 's', 1, 2, [4, 5, 6])\n",
      "('barbie', 'barbie', 'barbie')\n"
     ]
    }
   ],
   "source": [
    "tuple6=(1,2,[4,5,6])\n",
    "tuple=('m','y','e','m','p','t','y','c','l','a','s','s')\n",
    "final_tuple=tuple+tuple6\n",
    "print(final_tuple)\n",
    "\n",
    "tuple_test=(\"barbie\", )\n",
    "print(tuple_test*3)"
   ]
  },
  {
   "cell_type": "markdown",
   "metadata": {},
   "source": [
    "#### Deleting a tuple\n",
    "##### As we have dissussed earliar we can not change the elements of tuple that means we can not even delete the elements of tuples. however deleting entire tuple is possible with the help of 'del' keyword."
   ]
  },
  {
   "cell_type": "code",
   "execution_count": 22,
   "metadata": {},
   "outputs": [
    {
     "ename": "NameError",
     "evalue": "name 'tuple6' is not defined",
     "output_type": "error",
     "traceback": [
      "\u001b[1;31m---------------------------------------------------------------------------\u001b[0m",
      "\u001b[1;31mNameError\u001b[0m                                 Traceback (most recent call last)",
      "\u001b[1;32m<ipython-input-22-fbfcef2f52f3>\u001b[0m in \u001b[0;36m<module>\u001b[1;34m\u001b[0m\n\u001b[0;32m      1\u001b[0m \u001b[0mtuple6\u001b[0m\u001b[1;33m=\u001b[0m\u001b[1;33m(\u001b[0m\u001b[1;36m1\u001b[0m\u001b[1;33m,\u001b[0m\u001b[1;36m2\u001b[0m\u001b[1;33m,\u001b[0m\u001b[1;33m[\u001b[0m\u001b[1;36m4\u001b[0m\u001b[1;33m,\u001b[0m\u001b[1;36m5\u001b[0m\u001b[1;33m,\u001b[0m\u001b[1;36m6\u001b[0m\u001b[1;33m]\u001b[0m\u001b[1;33m)\u001b[0m\u001b[1;33m\u001b[0m\u001b[1;33m\u001b[0m\u001b[0m\n\u001b[0;32m      2\u001b[0m \u001b[1;32mdel\u001b[0m\u001b[1;33m(\u001b[0m\u001b[0mtuple6\u001b[0m\u001b[1;33m)\u001b[0m\u001b[1;33m\u001b[0m\u001b[1;33m\u001b[0m\u001b[0m\n\u001b[1;32m----> 3\u001b[1;33m \u001b[0mprint\u001b[0m\u001b[1;33m(\u001b[0m\u001b[0mtuple6\u001b[0m\u001b[1;33m)\u001b[0m\u001b[1;33m\u001b[0m\u001b[1;33m\u001b[0m\u001b[0m\n\u001b[0m",
      "\u001b[1;31mNameError\u001b[0m: name 'tuple6' is not defined"
     ]
    }
   ],
   "source": [
    "tuple6=(1,2,[4,5,6])\n",
    "del(tuple6)\n",
    "print(tuple6)"
   ]
  },
  {
   "cell_type": "markdown",
   "metadata": {},
   "source": [
    "#### Tuple Mrthods: \n",
    "##### Tuple have only two following method available \n",
    "1. Count\n",
    "2. Index"
   ]
  },
  {
   "cell_type": "code",
   "execution_count": 23,
   "metadata": {},
   "outputs": [
    {
     "name": "stdout",
     "output_type": "stream",
     "text": [
      "('m', 'y', 'e', 'm', 'p', 't', 'y', 'c', 'l', 'a', 's', 's')\n"
     ]
    }
   ],
   "source": [
    "print(tuple)"
   ]
  },
  {
   "cell_type": "code",
   "execution_count": 27,
   "metadata": {},
   "outputs": [
    {
     "name": "stdout",
     "output_type": "stream",
     "text": [
      "2\n",
      "1\n"
     ]
    }
   ],
   "source": [
    "print(tuple.count('s'))\n",
    "print(tuple.index('y'))"
   ]
  },
  {
   "cell_type": "markdown",
   "metadata": {},
   "source": [
    "#### Other operation on tuples\n",
    "1. Membership Test: We can test if any data item exists in tuple or not\n",
    "2. Itrating through tuple: We can use 'for' loop to itrate through each data element in tuple|"
   ]
  },
  {
   "cell_type": "code",
   "execution_count": 28,
   "metadata": {},
   "outputs": [
    {
     "name": "stdout",
     "output_type": "stream",
     "text": [
      "('m', 'y', 'e', 'm', 'p', 't', 'y', 'c', 'l', 'a', 's', 's')\n",
      "True\n",
      "True\n",
      "False\n"
     ]
    }
   ],
   "source": [
    "### Membership test\n",
    "print(tuple)\n",
    "print('m' in tuple)\n",
    "print('s' in tuple)\n",
    "print('z' in tuple)"
   ]
  },
  {
   "cell_type": "code",
   "execution_count": 32,
   "metadata": {},
   "outputs": [
    {
     "name": "stdout",
     "output_type": "stream",
     "text": [
      "Hello Ram\n",
      "Hello Shyam\n",
      "Hello Hari\n"
     ]
    }
   ],
   "source": [
    "# Itrating through tuple\n",
    "tuple_itr=('Ram','Shyam','Hari')\n",
    "for i in tuple_itr:\n",
    "    print('Hello', i)"
   ]
  },
  {
   "cell_type": "code",
   "execution_count": null,
   "metadata": {},
   "outputs": [],
   "source": []
  }
 ],
 "metadata": {
  "kernelspec": {
   "display_name": "Python 3",
   "language": "python",
   "name": "python3"
  },
  "language_info": {
   "codemirror_mode": {
    "name": "ipython",
    "version": 3
   },
   "file_extension": ".py",
   "mimetype": "text/x-python",
   "name": "python",
   "nbconvert_exporter": "python",
   "pygments_lexer": "ipython3",
   "version": "3.7.4"
  }
 },
 "nbformat": 4,
 "nbformat_minor": 2
}
